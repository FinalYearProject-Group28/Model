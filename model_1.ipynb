{
  "nbformat": 4,
  "nbformat_minor": 0,
  "metadata": {
    "colab": {
      "name": "Untitled5.ipynb",
      "provenance": [],
      "collapsed_sections": [],
      "toc_visible": true
    },
    "kernelspec": {
      "name": "python3",
      "display_name": "Python 3"
    },
    "accelerator": "GPU"
  },
  "cells": [
    {
      "cell_type": "code",
      "metadata": {
        "colab": {
          "base_uri": "https://localhost:8080/"
        },
        "id": "y5kT7Z7WvaP8",
        "outputId": "6bb08828-1f4b-46d7-cd7a-d08264639868"
      },
      "source": [
        "!git clone https://github.com/FinalYearProject-Group28/covid-chestxray-dataset.git"
      ],
      "execution_count": 1,
      "outputs": [
        {
          "output_type": "stream",
          "text": [
            "Cloning into 'covid-chestxray-dataset'...\n",
            "remote: Enumerating objects: 3213, done.\u001b[K\n",
            "remote: Total 3213 (delta 0), reused 0 (delta 0), pack-reused 3213\u001b[K\n",
            "Receiving objects: 100% (3213/3213), 582.58 MiB | 25.66 MiB/s, done.\n",
            "Resolving deltas: 100% (1276/1276), done.\n",
            "Checking out files: 100% (991/991), done.\n"
          ],
          "name": "stdout"
        }
      ]
    },
    {
      "cell_type": "code",
      "metadata": {
        "id": "Qk7c5yMEv1Ya"
      },
      "source": [
        "import pandas as pd\r\n",
        "import os\r\n",
        "import shutil"
      ],
      "execution_count": 2,
      "outputs": []
    },
    {
      "cell_type": "code",
      "metadata": {
        "id": "MqvDSJ-JwPMK"
      },
      "source": [
        "FILE_PATH = \"/content/covid-chestxray-dataset/metadata.csv\"\r\n",
        "IMAGE_PATH=\"/content/covid-chestxray-dataset/images\""
      ],
      "execution_count": 3,
      "outputs": []
    },
    {
      "cell_type": "code",
      "metadata": {
        "colab": {
          "base_uri": "https://localhost:8080/"
        },
        "id": "Tdg_23ZrwnL0",
        "outputId": "683f5d2a-843c-4284-ebf6-b3c09ed5cb0d"
      },
      "source": [
        "df=pd.read_csv(FILE_PATH)\r\n",
        "print(df.shape)"
      ],
      "execution_count": 4,
      "outputs": [
        {
          "output_type": "stream",
          "text": [
            "(758, 29)\n"
          ],
          "name": "stdout"
        }
      ]
    },
    {
      "cell_type": "code",
      "metadata": {
        "colab": {
          "base_uri": "https://localhost:8080/",
          "height": 568
        },
        "id": "v8BbWqDtwv-F",
        "outputId": "421d5281-834e-4d2b-f286-88ea483c6fdb"
      },
      "source": [
        "df.head()"
      ],
      "execution_count": 5,
      "outputs": [
        {
          "output_type": "execute_result",
          "data": {
            "text/html": [
              "<div>\n",
              "<style scoped>\n",
              "    .dataframe tbody tr th:only-of-type {\n",
              "        vertical-align: middle;\n",
              "    }\n",
              "\n",
              "    .dataframe tbody tr th {\n",
              "        vertical-align: top;\n",
              "    }\n",
              "\n",
              "    .dataframe thead th {\n",
              "        text-align: right;\n",
              "    }\n",
              "</style>\n",
              "<table border=\"1\" class=\"dataframe\">\n",
              "  <thead>\n",
              "    <tr style=\"text-align: right;\">\n",
              "      <th></th>\n",
              "      <th>patientid</th>\n",
              "      <th>offset</th>\n",
              "      <th>sex</th>\n",
              "      <th>age</th>\n",
              "      <th>finding</th>\n",
              "      <th>survival</th>\n",
              "      <th>intubated</th>\n",
              "      <th>intubation_present</th>\n",
              "      <th>went_icu</th>\n",
              "      <th>in_icu</th>\n",
              "      <th>needed_supplemental_O2</th>\n",
              "      <th>extubated</th>\n",
              "      <th>temperature</th>\n",
              "      <th>pO2_saturation</th>\n",
              "      <th>leukocyte_count</th>\n",
              "      <th>neutrophil_count</th>\n",
              "      <th>lymphocyte_count</th>\n",
              "      <th>view</th>\n",
              "      <th>modality</th>\n",
              "      <th>date</th>\n",
              "      <th>location</th>\n",
              "      <th>folder</th>\n",
              "      <th>filename</th>\n",
              "      <th>doi</th>\n",
              "      <th>url</th>\n",
              "      <th>license</th>\n",
              "      <th>clinical_notes</th>\n",
              "      <th>other_notes</th>\n",
              "      <th>Unnamed: 28</th>\n",
              "    </tr>\n",
              "  </thead>\n",
              "  <tbody>\n",
              "    <tr>\n",
              "      <th>0</th>\n",
              "      <td>2</td>\n",
              "      <td>0</td>\n",
              "      <td>M</td>\n",
              "      <td>65.0</td>\n",
              "      <td>COVID-19</td>\n",
              "      <td>Y</td>\n",
              "      <td>N</td>\n",
              "      <td>N</td>\n",
              "      <td>N</td>\n",
              "      <td>N</td>\n",
              "      <td>Y</td>\n",
              "      <td>NaN</td>\n",
              "      <td>NaN</td>\n",
              "      <td>NaN</td>\n",
              "      <td>NaN</td>\n",
              "      <td>NaN</td>\n",
              "      <td>NaN</td>\n",
              "      <td>PA</td>\n",
              "      <td>X-ray</td>\n",
              "      <td>January 22, 2020</td>\n",
              "      <td>Cho Ray Hospital, Ho Chi Minh City, Vietnam</td>\n",
              "      <td>images</td>\n",
              "      <td>auntminnie-a-2020_01_28_23_51_6665_2020_01_28_...</td>\n",
              "      <td>10.1056/nejmc2001272</td>\n",
              "      <td>https://www.nejm.org/doi/full/10.1056/NEJMc200...</td>\n",
              "      <td>NaN</td>\n",
              "      <td>On January 22, 2020, a 65-year-old man with a ...</td>\n",
              "      <td>NaN</td>\n",
              "      <td>NaN</td>\n",
              "    </tr>\n",
              "    <tr>\n",
              "      <th>1</th>\n",
              "      <td>2</td>\n",
              "      <td>3</td>\n",
              "      <td>M</td>\n",
              "      <td>65.0</td>\n",
              "      <td>COVID-19</td>\n",
              "      <td>Y</td>\n",
              "      <td>N</td>\n",
              "      <td>N</td>\n",
              "      <td>N</td>\n",
              "      <td>N</td>\n",
              "      <td>Y</td>\n",
              "      <td>NaN</td>\n",
              "      <td>NaN</td>\n",
              "      <td>NaN</td>\n",
              "      <td>NaN</td>\n",
              "      <td>NaN</td>\n",
              "      <td>NaN</td>\n",
              "      <td>PA</td>\n",
              "      <td>X-ray</td>\n",
              "      <td>January 25, 2020</td>\n",
              "      <td>Cho Ray Hospital, Ho Chi Minh City, Vietnam</td>\n",
              "      <td>images</td>\n",
              "      <td>auntminnie-b-2020_01_28_23_51_6665_2020_01_28_...</td>\n",
              "      <td>10.1056/nejmc2001272</td>\n",
              "      <td>https://www.nejm.org/doi/full/10.1056/NEJMc200...</td>\n",
              "      <td>NaN</td>\n",
              "      <td>On January 22, 2020, a 65-year-old man with a ...</td>\n",
              "      <td>NaN</td>\n",
              "      <td>NaN</td>\n",
              "    </tr>\n",
              "    <tr>\n",
              "      <th>2</th>\n",
              "      <td>2</td>\n",
              "      <td>5</td>\n",
              "      <td>M</td>\n",
              "      <td>65.0</td>\n",
              "      <td>COVID-19</td>\n",
              "      <td>Y</td>\n",
              "      <td>N</td>\n",
              "      <td>N</td>\n",
              "      <td>N</td>\n",
              "      <td>N</td>\n",
              "      <td>Y</td>\n",
              "      <td>NaN</td>\n",
              "      <td>NaN</td>\n",
              "      <td>NaN</td>\n",
              "      <td>NaN</td>\n",
              "      <td>NaN</td>\n",
              "      <td>NaN</td>\n",
              "      <td>PA</td>\n",
              "      <td>X-ray</td>\n",
              "      <td>January 27, 2020</td>\n",
              "      <td>Cho Ray Hospital, Ho Chi Minh City, Vietnam</td>\n",
              "      <td>images</td>\n",
              "      <td>auntminnie-c-2020_01_28_23_51_6665_2020_01_28_...</td>\n",
              "      <td>10.1056/nejmc2001272</td>\n",
              "      <td>https://www.nejm.org/doi/full/10.1056/NEJMc200...</td>\n",
              "      <td>NaN</td>\n",
              "      <td>On January 22, 2020, a 65-year-old man with a ...</td>\n",
              "      <td>NaN</td>\n",
              "      <td>NaN</td>\n",
              "    </tr>\n",
              "    <tr>\n",
              "      <th>3</th>\n",
              "      <td>2</td>\n",
              "      <td>6</td>\n",
              "      <td>M</td>\n",
              "      <td>65.0</td>\n",
              "      <td>COVID-19</td>\n",
              "      <td>Y</td>\n",
              "      <td>N</td>\n",
              "      <td>N</td>\n",
              "      <td>N</td>\n",
              "      <td>N</td>\n",
              "      <td>Y</td>\n",
              "      <td>NaN</td>\n",
              "      <td>NaN</td>\n",
              "      <td>NaN</td>\n",
              "      <td>NaN</td>\n",
              "      <td>NaN</td>\n",
              "      <td>NaN</td>\n",
              "      <td>PA</td>\n",
              "      <td>X-ray</td>\n",
              "      <td>January 28, 2020</td>\n",
              "      <td>Cho Ray Hospital, Ho Chi Minh City, Vietnam</td>\n",
              "      <td>images</td>\n",
              "      <td>auntminnie-d-2020_01_28_23_51_6665_2020_01_28_...</td>\n",
              "      <td>10.1056/nejmc2001272</td>\n",
              "      <td>https://www.nejm.org/doi/full/10.1056/NEJMc200...</td>\n",
              "      <td>NaN</td>\n",
              "      <td>On January 22, 2020, a 65-year-old man with a ...</td>\n",
              "      <td>NaN</td>\n",
              "      <td>NaN</td>\n",
              "    </tr>\n",
              "    <tr>\n",
              "      <th>4</th>\n",
              "      <td>4</td>\n",
              "      <td>0</td>\n",
              "      <td>F</td>\n",
              "      <td>52.0</td>\n",
              "      <td>COVID-19</td>\n",
              "      <td>NaN</td>\n",
              "      <td>N</td>\n",
              "      <td>N</td>\n",
              "      <td>N</td>\n",
              "      <td>N</td>\n",
              "      <td>N</td>\n",
              "      <td>NaN</td>\n",
              "      <td>NaN</td>\n",
              "      <td>NaN</td>\n",
              "      <td>NaN</td>\n",
              "      <td>NaN</td>\n",
              "      <td>NaN</td>\n",
              "      <td>PA</td>\n",
              "      <td>X-ray</td>\n",
              "      <td>January 25, 2020</td>\n",
              "      <td>Changhua Christian Hospital, Changhua City, Ta...</td>\n",
              "      <td>images</td>\n",
              "      <td>nejmc2001573_f1a.jpeg</td>\n",
              "      <td>10.1056/NEJMc2001573</td>\n",
              "      <td>https://www.nejm.org/doi/full/10.1056/NEJMc200...</td>\n",
              "      <td>NaN</td>\n",
              "      <td>diffuse infiltrates in the bilateral lower lungs</td>\n",
              "      <td>NaN</td>\n",
              "      <td>NaN</td>\n",
              "    </tr>\n",
              "  </tbody>\n",
              "</table>\n",
              "</div>"
            ],
            "text/plain": [
              "  patientid offset  ... other_notes  Unnamed: 28\n",
              "0         2      0  ...         NaN          NaN\n",
              "1         2      3  ...         NaN          NaN\n",
              "2         2      5  ...         NaN          NaN\n",
              "3         2      6  ...         NaN          NaN\n",
              "4         4      0  ...         NaN          NaN\n",
              "\n",
              "[5 rows x 29 columns]"
            ]
          },
          "metadata": {
            "tags": []
          },
          "execution_count": 5
        }
      ]
    },
    {
      "cell_type": "code",
      "metadata": {
        "id": "yuuicXtSxDQR"
      },
      "source": [
        "TARGET_DIR_COVID=\"/content/dataset/covid\"\r\n",
        "if not os.path.exists(TARGET_DIR_COVID):\r\n",
        "  os.mkdir(\"/content/dataset\")\r\n",
        "  os.mkdir(TARGET_DIR_COVID)\r\n",
        "TARGET_DIR_NCOVID=\"/content/dataset/not-covid\"\r\n",
        "if not os.path.exists(TARGET_DIR_NCOVID):\r\n",
        "  os.mkdir(TARGET_DIR_NCOVID)"
      ],
      "execution_count": 6,
      "outputs": []
    },
    {
      "cell_type": "code",
      "metadata": {
        "colab": {
          "base_uri": "https://localhost:8080/"
        },
        "id": "jrhW9_43yHN_",
        "outputId": "f38878ff-e3a2-40e7-cde0-ca5abf7697fb"
      },
      "source": [
        "cnt=0\r\n",
        "count=0\r\n",
        "for (i,row) in df.iterrows():\r\n",
        "  if row[\"finding\"]==\"COVID-19\" and row[\"view\"]==\"PA\":\r\n",
        "    cnt+=1\r\n",
        "    filename=row[\"filename\"]\r\n",
        "    image_path = os.path.join(IMAGE_PATH,filename)\r\n",
        "    image_copy_path = os.path.join(TARGET_DIR_COVID,filename)\r\n",
        "    shutil.copy2(image_path,image_copy_path)\r\n",
        "  if row[\"finding\"]!=\"COVID-19\" and row[\"view\"]==\"PA\":\r\n",
        "    count+=1\r\n",
        "    filename=row[\"filename\"]\r\n",
        "    image_path = os.path.join(IMAGE_PATH,filename)\r\n",
        "    image_copy_path = os.path.join(TARGET_DIR_NCOVID,filename)\r\n",
        "    shutil.copy2(image_path,image_copy_path)\r\n",
        "print(cnt)\r\n",
        "print(count)"
      ],
      "execution_count": 7,
      "outputs": [
        {
          "output_type": "stream",
          "text": [
            "201\n",
            "102\n"
          ],
          "name": "stdout"
        }
      ]
    },
    {
      "cell_type": "code",
      "metadata": {
        "colab": {
          "base_uri": "https://localhost:8080/"
        },
        "id": "MOU1Bcv1FH3Y",
        "outputId": "be1066d0-ea67-4182-e91e-846b3d8b9453"
      },
      "source": [
        "x_train_count=int(cnt*0.7)\r\n",
        "y_train_count=int(count*0.7)\r\n",
        "print(x_train_count)\r\n",
        "print(y_train_count)"
      ],
      "execution_count": 8,
      "outputs": [
        {
          "output_type": "stream",
          "text": [
            "140\n",
            "71\n"
          ],
          "name": "stdout"
        }
      ]
    },
    {
      "cell_type": "code",
      "metadata": {
        "id": "_K4JqPzm5QHM"
      },
      "source": [
        "if not os.path.exists(\"/content/train/covid\"):\r\n",
        "  os.mkdir(\"/content/train/\")\r\n",
        "  os.mkdir(\"/content/train/covid\")"
      ],
      "execution_count": 9,
      "outputs": []
    },
    {
      "cell_type": "code",
      "metadata": {
        "id": "pJ1gMWdh73yw"
      },
      "source": [
        "os.mkdir(\"/content/train/ncovid\")"
      ],
      "execution_count": 10,
      "outputs": []
    },
    {
      "cell_type": "code",
      "metadata": {
        "id": "3VTg_mH18Kqi"
      },
      "source": [
        "if not os.path.exists(\"/content/test/covid\"):\r\n",
        "  os.mkdir(\"/content/test/\")\r\n",
        "  os.mkdir(\"/content/test/covid\")\r\n",
        "  os.mkdir(\"/content/test/ncovid\")"
      ],
      "execution_count": 11,
      "outputs": []
    },
    {
      "cell_type": "code",
      "metadata": {
        "id": "PFVXKI5PF4ca"
      },
      "source": [
        "covid_names=os.listdir(\"/content/dataset/covid\")\r\n",
        "ncovid_names=os.listdir(\"/content/dataset/not-covid\")"
      ],
      "execution_count": 13,
      "outputs": []
    },
    {
      "cell_type": "code",
      "metadata": {
        "id": "BW1ny55MGXUT"
      },
      "source": [
        "import random\r\n",
        "random.shuffle(covid_names)\r\n",
        "random.shuffle(ncovid_names)"
      ],
      "execution_count": 14,
      "outputs": []
    },
    {
      "cell_type": "code",
      "metadata": {
        "colab": {
          "base_uri": "https://localhost:8080/"
        },
        "id": "VsHDNrdqGvcA",
        "outputId": "867415b6-642a-4742-ab68-502acd939220"
      },
      "source": [
        "for i in range(x_train_count):\r\n",
        "  img_name=covid_names[i]\r\n",
        "  img_path=os.path.join(\"/content/dataset/covid\",img_name)\r\n",
        "  img_target=os.path.join(\"/content/train/covid\",img_name)\r\n",
        "  shutil.copy2(img_path,img_target)\r\n",
        "  print(\"covid train copied\")"
      ],
      "execution_count": 15,
      "outputs": [
        {
          "output_type": "stream",
          "text": [
            "covid train copied\n",
            "covid train copied\n",
            "covid train copied\n",
            "covid train copied\n",
            "covid train copied\n",
            "covid train copied\n",
            "covid train copied\n",
            "covid train copied\n",
            "covid train copied\n",
            "covid train copied\n",
            "covid train copied\n",
            "covid train copied\n",
            "covid train copied\n",
            "covid train copied\n",
            "covid train copied\n",
            "covid train copied\n",
            "covid train copied\n",
            "covid train copied\n",
            "covid train copied\n",
            "covid train copied\n",
            "covid train copied\n",
            "covid train copied\n",
            "covid train copied\n",
            "covid train copied\n",
            "covid train copied\n",
            "covid train copied\n",
            "covid train copied\n",
            "covid train copied\n",
            "covid train copied\n",
            "covid train copied\n",
            "covid train copied\n",
            "covid train copied\n",
            "covid train copied\n",
            "covid train copied\n",
            "covid train copied\n",
            "covid train copied\n",
            "covid train copied\n",
            "covid train copied\n",
            "covid train copied\n",
            "covid train copied\n",
            "covid train copied\n",
            "covid train copied\n",
            "covid train copied\n",
            "covid train copied\n",
            "covid train copied\n",
            "covid train copied\n",
            "covid train copied\n",
            "covid train copied\n",
            "covid train copied\n",
            "covid train copied\n",
            "covid train copied\n",
            "covid train copied\n",
            "covid train copied\n",
            "covid train copied\n",
            "covid train copied\n",
            "covid train copied\n",
            "covid train copied\n",
            "covid train copied\n",
            "covid train copied\n",
            "covid train copied\n",
            "covid train copied\n",
            "covid train copied\n",
            "covid train copied\n",
            "covid train copied\n",
            "covid train copied\n",
            "covid train copied\n",
            "covid train copied\n",
            "covid train copied\n",
            "covid train copied\n",
            "covid train copied\n",
            "covid train copied\n",
            "covid train copied\n",
            "covid train copied\n",
            "covid train copied\n",
            "covid train copied\n",
            "covid train copied\n",
            "covid train copied\n",
            "covid train copied\n",
            "covid train copied\n",
            "covid train copied\n",
            "covid train copied\n",
            "covid train copied\n",
            "covid train copied\n",
            "covid train copied\n",
            "covid train copied\n",
            "covid train copied\n",
            "covid train copied\n",
            "covid train copied\n",
            "covid train copied\n",
            "covid train copied\n",
            "covid train copied\n",
            "covid train copied\n",
            "covid train copied\n",
            "covid train copied\n",
            "covid train copied\n",
            "covid train copied\n",
            "covid train copied\n",
            "covid train copied\n",
            "covid train copied\n",
            "covid train copied\n",
            "covid train copied\n",
            "covid train copied\n",
            "covid train copied\n",
            "covid train copied\n",
            "covid train copied\n",
            "covid train copied\n",
            "covid train copied\n",
            "covid train copied\n",
            "covid train copied\n",
            "covid train copied\n",
            "covid train copied\n",
            "covid train copied\n",
            "covid train copied\n",
            "covid train copied\n",
            "covid train copied\n",
            "covid train copied\n",
            "covid train copied\n",
            "covid train copied\n",
            "covid train copied\n",
            "covid train copied\n",
            "covid train copied\n",
            "covid train copied\n",
            "covid train copied\n",
            "covid train copied\n",
            "covid train copied\n",
            "covid train copied\n",
            "covid train copied\n",
            "covid train copied\n",
            "covid train copied\n",
            "covid train copied\n",
            "covid train copied\n",
            "covid train copied\n",
            "covid train copied\n",
            "covid train copied\n",
            "covid train copied\n",
            "covid train copied\n",
            "covid train copied\n",
            "covid train copied\n",
            "covid train copied\n",
            "covid train copied\n"
          ],
          "name": "stdout"
        }
      ]
    },
    {
      "cell_type": "code",
      "metadata": {
        "colab": {
          "base_uri": "https://localhost:8080/"
        },
        "id": "LdrUO_5IH7Bq",
        "outputId": "2fc1dc01-c777-4bbb-9498-9d124141a002"
      },
      "source": [
        "for i in range(y_train_count):\r\n",
        "  img_name=ncovid_names[i]\r\n",
        "  img_path=os.path.join(\"/content/dataset/not-covid\",img_name)\r\n",
        "  img_target=os.path.join(\"/content/train/ncovid\",img_name)\r\n",
        "  shutil.copy2(img_path,img_target)\r\n",
        "  print(\"ncovid train copied\")"
      ],
      "execution_count": 16,
      "outputs": [
        {
          "output_type": "stream",
          "text": [
            "ncovid train copied\n",
            "ncovid train copied\n",
            "ncovid train copied\n",
            "ncovid train copied\n",
            "ncovid train copied\n",
            "ncovid train copied\n",
            "ncovid train copied\n",
            "ncovid train copied\n",
            "ncovid train copied\n",
            "ncovid train copied\n",
            "ncovid train copied\n",
            "ncovid train copied\n",
            "ncovid train copied\n",
            "ncovid train copied\n",
            "ncovid train copied\n",
            "ncovid train copied\n",
            "ncovid train copied\n",
            "ncovid train copied\n",
            "ncovid train copied\n",
            "ncovid train copied\n",
            "ncovid train copied\n",
            "ncovid train copied\n",
            "ncovid train copied\n",
            "ncovid train copied\n",
            "ncovid train copied\n",
            "ncovid train copied\n",
            "ncovid train copied\n",
            "ncovid train copied\n",
            "ncovid train copied\n",
            "ncovid train copied\n",
            "ncovid train copied\n",
            "ncovid train copied\n",
            "ncovid train copied\n",
            "ncovid train copied\n",
            "ncovid train copied\n",
            "ncovid train copied\n",
            "ncovid train copied\n",
            "ncovid train copied\n",
            "ncovid train copied\n",
            "ncovid train copied\n",
            "ncovid train copied\n",
            "ncovid train copied\n",
            "ncovid train copied\n",
            "ncovid train copied\n",
            "ncovid train copied\n",
            "ncovid train copied\n",
            "ncovid train copied\n",
            "ncovid train copied\n",
            "ncovid train copied\n",
            "ncovid train copied\n",
            "ncovid train copied\n",
            "ncovid train copied\n",
            "ncovid train copied\n",
            "ncovid train copied\n",
            "ncovid train copied\n",
            "ncovid train copied\n",
            "ncovid train copied\n",
            "ncovid train copied\n",
            "ncovid train copied\n",
            "ncovid train copied\n",
            "ncovid train copied\n",
            "ncovid train copied\n",
            "ncovid train copied\n",
            "ncovid train copied\n",
            "ncovid train copied\n",
            "ncovid train copied\n",
            "ncovid train copied\n",
            "ncovid train copied\n",
            "ncovid train copied\n",
            "ncovid train copied\n",
            "ncovid train copied\n"
          ],
          "name": "stdout"
        }
      ]
    },
    {
      "cell_type": "code",
      "metadata": {
        "colab": {
          "base_uri": "https://localhost:8080/"
        },
        "id": "GQHzSi9bIptr",
        "outputId": "3ba634a3-2435-499d-8a48-189321177cd9"
      },
      "source": [
        "for i in range(x_train_count+1,cnt):\r\n",
        "  img_name=covid_names[i]\r\n",
        "  img_path=os.path.join(\"/content/dataset/covid\",img_name)\r\n",
        "  img_target=os.path.join(\"/content/test/covid\",img_name)\r\n",
        "  shutil.copy2(img_path,img_target)\r\n",
        "  print(\"covid test copied\")"
      ],
      "execution_count": 17,
      "outputs": [
        {
          "output_type": "stream",
          "text": [
            "covid test copied\n",
            "covid test copied\n",
            "covid test copied\n",
            "covid test copied\n",
            "covid test copied\n",
            "covid test copied\n",
            "covid test copied\n",
            "covid test copied\n",
            "covid test copied\n",
            "covid test copied\n",
            "covid test copied\n",
            "covid test copied\n",
            "covid test copied\n",
            "covid test copied\n",
            "covid test copied\n",
            "covid test copied\n",
            "covid test copied\n",
            "covid test copied\n",
            "covid test copied\n",
            "covid test copied\n",
            "covid test copied\n",
            "covid test copied\n",
            "covid test copied\n",
            "covid test copied\n",
            "covid test copied\n",
            "covid test copied\n",
            "covid test copied\n",
            "covid test copied\n",
            "covid test copied\n",
            "covid test copied\n",
            "covid test copied\n",
            "covid test copied\n",
            "covid test copied\n",
            "covid test copied\n",
            "covid test copied\n",
            "covid test copied\n",
            "covid test copied\n",
            "covid test copied\n",
            "covid test copied\n",
            "covid test copied\n",
            "covid test copied\n",
            "covid test copied\n",
            "covid test copied\n",
            "covid test copied\n",
            "covid test copied\n",
            "covid test copied\n",
            "covid test copied\n",
            "covid test copied\n",
            "covid test copied\n",
            "covid test copied\n",
            "covid test copied\n",
            "covid test copied\n",
            "covid test copied\n",
            "covid test copied\n",
            "covid test copied\n",
            "covid test copied\n",
            "covid test copied\n",
            "covid test copied\n",
            "covid test copied\n",
            "covid test copied\n"
          ],
          "name": "stdout"
        }
      ]
    },
    {
      "cell_type": "code",
      "metadata": {
        "colab": {
          "base_uri": "https://localhost:8080/"
        },
        "id": "oKN_DfyyJgl5",
        "outputId": "43b942a8-8af9-482e-86de-4d0902fc7f34"
      },
      "source": [
        "for i in range(y_train_count+1,count):\r\n",
        "  img_name=ncovid_names[i]\r\n",
        "  img_path=os.path.join(\"/content/dataset/not-covid\",img_name)\r\n",
        "  img_target=os.path.join(\"/content/test/ncovid\",img_name)\r\n",
        "  shutil.copy2(img_path,img_target)\r\n",
        "  print(\"ncovid test copied\")"
      ],
      "execution_count": 18,
      "outputs": [
        {
          "output_type": "stream",
          "text": [
            "ncovid test copied\n",
            "ncovid test copied\n",
            "ncovid test copied\n",
            "ncovid test copied\n",
            "ncovid test copied\n",
            "ncovid test copied\n",
            "ncovid test copied\n",
            "ncovid test copied\n",
            "ncovid test copied\n",
            "ncovid test copied\n",
            "ncovid test copied\n",
            "ncovid test copied\n",
            "ncovid test copied\n",
            "ncovid test copied\n",
            "ncovid test copied\n",
            "ncovid test copied\n",
            "ncovid test copied\n",
            "ncovid test copied\n",
            "ncovid test copied\n",
            "ncovid test copied\n",
            "ncovid test copied\n",
            "ncovid test copied\n",
            "ncovid test copied\n",
            "ncovid test copied\n",
            "ncovid test copied\n",
            "ncovid test copied\n",
            "ncovid test copied\n",
            "ncovid test copied\n",
            "ncovid test copied\n",
            "ncovid test copied\n"
          ],
          "name": "stdout"
        }
      ]
    },
    {
      "cell_type": "code",
      "metadata": {
        "id": "xMDXdC06EMv7"
      },
      "source": [
        "TRAIN_PATH = \"/content/train\"\r\n",
        "TEST_PATH = \"/content/test\""
      ],
      "execution_count": 27,
      "outputs": []
    },
    {
      "cell_type": "code",
      "metadata": {
        "id": "PTAe9HLHHXmd"
      },
      "source": [
        "import numpy as np\r\n",
        "import matplotlib.pyplot as plt\r\n",
        "import keras\r\n",
        "from keras.layers import *\r\n",
        "from keras.models import *\r\n",
        "from keras.preprocessing import image"
      ],
      "execution_count": 20,
      "outputs": []
    },
    {
      "cell_type": "code",
      "metadata": {
        "id": "lDKHCkEpHs7Q"
      },
      "source": [
        "model = Sequential()\r\n",
        "model.add(Conv2D(32,kernel_size=(3,3),activation='relu',input_shape=(224,224,3)))\r\n",
        "model.add(Conv2D(64,(3,3),activation='relu'))\r\n",
        "model.add(MaxPooling2D(pool_size=(2,2)))\r\n",
        "model.add(Dropout(0.25))\r\n",
        "\r\n",
        "model.add(Conv2D(64,(3,3),activation='relu'))\r\n",
        "model.add(MaxPooling2D(pool_size=(2,2)))\r\n",
        "model.add(Dropout(0.25))\r\n",
        "\r\n",
        "model.add(Conv2D(128,(3,3),activation='relu'))\r\n",
        "model.add(MaxPooling2D(pool_size=(2,2)))\r\n",
        "model.add(Dropout(0.25))\r\n",
        "\r\n",
        "model.add(Flatten())\r\n",
        "model.add(Dense(64,activation='relu'))\r\n",
        "model.add(Dropout(0.25))\r\n",
        "model.add(Dense(1,activation='sigmoid'))\r\n",
        "\r\n",
        "model.compile(loss=keras.losses.binary_crossentropy,optimizer='adam',metrics=['accuracy'])\r\n",
        "\r\n"
      ],
      "execution_count": 22,
      "outputs": []
    },
    {
      "cell_type": "code",
      "metadata": {
        "colab": {
          "base_uri": "https://localhost:8080/"
        },
        "id": "gDCxFix4KSoO",
        "outputId": "b4abcc91-d17f-4015-e1d3-aeb7f09d6ab8"
      },
      "source": [
        "model.summary()"
      ],
      "execution_count": 23,
      "outputs": [
        {
          "output_type": "stream",
          "text": [
            "Model: \"sequential_1\"\n",
            "_________________________________________________________________\n",
            "Layer (type)                 Output Shape              Param #   \n",
            "=================================================================\n",
            "conv2d_4 (Conv2D)            (None, 222, 222, 32)      896       \n",
            "_________________________________________________________________\n",
            "conv2d_5 (Conv2D)            (None, 220, 220, 64)      18496     \n",
            "_________________________________________________________________\n",
            "max_pooling2d_3 (MaxPooling2 (None, 110, 110, 64)      0         \n",
            "_________________________________________________________________\n",
            "dropout_4 (Dropout)          (None, 110, 110, 64)      0         \n",
            "_________________________________________________________________\n",
            "conv2d_6 (Conv2D)            (None, 108, 108, 64)      36928     \n",
            "_________________________________________________________________\n",
            "max_pooling2d_4 (MaxPooling2 (None, 54, 54, 64)        0         \n",
            "_________________________________________________________________\n",
            "dropout_5 (Dropout)          (None, 54, 54, 64)        0         \n",
            "_________________________________________________________________\n",
            "conv2d_7 (Conv2D)            (None, 52, 52, 128)       73856     \n",
            "_________________________________________________________________\n",
            "max_pooling2d_5 (MaxPooling2 (None, 26, 26, 128)       0         \n",
            "_________________________________________________________________\n",
            "dropout_6 (Dropout)          (None, 26, 26, 128)       0         \n",
            "_________________________________________________________________\n",
            "flatten_1 (Flatten)          (None, 86528)             0         \n",
            "_________________________________________________________________\n",
            "dense_2 (Dense)              (None, 64)                5537856   \n",
            "_________________________________________________________________\n",
            "dropout_7 (Dropout)          (None, 64)                0         \n",
            "_________________________________________________________________\n",
            "dense_3 (Dense)              (None, 1)                 65        \n",
            "=================================================================\n",
            "Total params: 5,668,097\n",
            "Trainable params: 5,668,097\n",
            "Non-trainable params: 0\n",
            "_________________________________________________________________\n"
          ],
          "name": "stdout"
        }
      ]
    },
    {
      "cell_type": "code",
      "metadata": {
        "id": "zI27qyATKaE7"
      },
      "source": [
        "train_datagen=image.ImageDataGenerator(\r\n",
        "    rescale = 1./255,\r\n",
        "    shear_range = 0.2,\r\n",
        "    zoom_range = 0.2,\r\n",
        "    horizontal_flip = True,\r\n",
        ")\r\n",
        "test_datagen = image.ImageDataGenerator(\r\n",
        "    rescale = 1./255\r\n",
        ")"
      ],
      "execution_count": 24,
      "outputs": []
    },
    {
      "cell_type": "code",
      "metadata": {
        "colab": {
          "base_uri": "https://localhost:8080/"
        },
        "id": "qwFUNcthLPW1",
        "outputId": "3d8bca9b-7996-45cc-b1f7-5a4d08a07509"
      },
      "source": [
        "train_generator=train_datagen.flow_from_directory(\r\n",
        "    TRAIN_PATH,\r\n",
        "    target_size = (224,224),\r\n",
        "    batch_size=32,\r\n",
        "    class_mode='binary'\r\n",
        ")"
      ],
      "execution_count": 25,
      "outputs": [
        {
          "output_type": "stream",
          "text": [
            "Found 211 images belonging to 2 classes.\n"
          ],
          "name": "stdout"
        }
      ]
    },
    {
      "cell_type": "code",
      "metadata": {
        "colab": {
          "base_uri": "https://localhost:8080/"
        },
        "id": "SLK5Y1mqL2F4",
        "outputId": "d203f17f-d2bb-43a0-e4e0-391ab6ea8667"
      },
      "source": [
        "train_generator.class_indices"
      ],
      "execution_count": 26,
      "outputs": [
        {
          "output_type": "execute_result",
          "data": {
            "text/plain": [
              "{'covid': 0, 'ncovid': 1}"
            ]
          },
          "metadata": {
            "tags": []
          },
          "execution_count": 26
        }
      ]
    },
    {
      "cell_type": "code",
      "metadata": {
        "colab": {
          "base_uri": "https://localhost:8080/"
        },
        "id": "hGFS2IaJMFDH",
        "outputId": "328e2d67-cc81-4794-b7ab-2c7f83b4b866"
      },
      "source": [
        "test_generator=test_datagen.flow_from_directory(\r\n",
        "    TEST_PATH,\r\n",
        "    target_size = (224,224),\r\n",
        "    batch_size=32,\r\n",
        "    class_mode='binary'\r\n",
        ")"
      ],
      "execution_count": 28,
      "outputs": [
        {
          "output_type": "stream",
          "text": [
            "Found 90 images belonging to 2 classes.\n"
          ],
          "name": "stdout"
        }
      ]
    },
    {
      "cell_type": "code",
      "metadata": {
        "colab": {
          "base_uri": "https://localhost:8080/"
        },
        "id": "u33T0SLjMp8M",
        "outputId": "312116b9-828e-4e43-cee1-73c9434dbfd4"
      },
      "source": [
        "test_generator.class_indices"
      ],
      "execution_count": 29,
      "outputs": [
        {
          "output_type": "execute_result",
          "data": {
            "text/plain": [
              "{'covid': 0, 'ncovid': 1}"
            ]
          },
          "metadata": {
            "tags": []
          },
          "execution_count": 29
        }
      ]
    },
    {
      "cell_type": "code",
      "metadata": {
        "colab": {
          "base_uri": "https://localhost:8080/"
        },
        "id": "RflDM-0PMvxZ",
        "outputId": "a326d6b2-c6c0-4f05-b432-863c04ad8c19"
      },
      "source": [
        "hist = model.fit(\r\n",
        "    train_generator,\r\n",
        "    #steps_per_epoch=8,\r\n",
        "    epochs=10,\r\n",
        "    validation_data=test_generator,\r\n",
        "    validation_steps=2\r\n",
        "\r\n",
        ")"
      ],
      "execution_count": 32,
      "outputs": [
        {
          "output_type": "stream",
          "text": [
            "Epoch 1/10\n",
            "7/7 [==============================] - 13s 2s/step - loss: 0.6657 - accuracy: 0.6635 - val_loss: 0.6674 - val_accuracy: 0.6562\n",
            "Epoch 2/10\n",
            "7/7 [==============================] - 12s 2s/step - loss: 0.6598 - accuracy: 0.6635 - val_loss: 0.6661 - val_accuracy: 0.6875\n",
            "Epoch 3/10\n",
            "7/7 [==============================] - 12s 2s/step - loss: 0.6507 - accuracy: 0.6635 - val_loss: 0.6555 - val_accuracy: 0.6719\n",
            "Epoch 4/10\n",
            "7/7 [==============================] - 12s 2s/step - loss: 0.6443 - accuracy: 0.6635 - val_loss: 0.6569 - val_accuracy: 0.6406\n",
            "Epoch 5/10\n",
            "7/7 [==============================] - 12s 2s/step - loss: 0.6417 - accuracy: 0.6635 - val_loss: 0.6405 - val_accuracy: 0.7188\n",
            "Epoch 6/10\n",
            "7/7 [==============================] - 12s 2s/step - loss: 0.6421 - accuracy: 0.6635 - val_loss: 0.6489 - val_accuracy: 0.6719\n",
            "Epoch 7/10\n",
            "7/7 [==============================] - 12s 2s/step - loss: 0.6446 - accuracy: 0.6635 - val_loss: 0.6646 - val_accuracy: 0.6250\n",
            "Epoch 8/10\n",
            "7/7 [==============================] - 12s 2s/step - loss: 0.6387 - accuracy: 0.6635 - val_loss: 0.6417 - val_accuracy: 0.6719\n",
            "Epoch 9/10\n",
            "7/7 [==============================] - 12s 2s/step - loss: 0.6427 - accuracy: 0.6635 - val_loss: 0.6570 - val_accuracy: 0.6562\n",
            "Epoch 10/10\n",
            "7/7 [==============================] - 12s 2s/step - loss: 0.6561 - accuracy: 0.6635 - val_loss: 0.6538 - val_accuracy: 0.6719\n"
          ],
          "name": "stdout"
        }
      ]
    },
    {
      "cell_type": "code",
      "metadata": {
        "colab": {
          "base_uri": "https://localhost:8080/"
        },
        "id": "RLOUgGmQNZ2b",
        "outputId": "ca21183a-450d-47ef-8652-adaf9c305028"
      },
      "source": [
        "model.save(\"model_1\")"
      ],
      "execution_count": 33,
      "outputs": [
        {
          "output_type": "stream",
          "text": [
            "INFO:tensorflow:Assets written to: model_1/assets\n"
          ],
          "name": "stdout"
        }
      ]
    },
    {
      "cell_type": "code",
      "metadata": {
        "colab": {
          "base_uri": "https://localhost:8080/"
        },
        "id": "w6dfCnVEOz19",
        "outputId": "0d711d53-26d1-4776-ec09-b915d6bc4b6f"
      },
      "source": [
        "model.evaluate(train_generator)"
      ],
      "execution_count": 35,
      "outputs": [
        {
          "output_type": "stream",
          "text": [
            "7/7 [==============================] - 8s 1s/step - loss: 0.6567 - accuracy: 0.6635\n"
          ],
          "name": "stdout"
        },
        {
          "output_type": "execute_result",
          "data": {
            "text/plain": [
              "[0.6567056179046631, 0.6635071039199829]"
            ]
          },
          "metadata": {
            "tags": []
          },
          "execution_count": 35
        }
      ]
    },
    {
      "cell_type": "code",
      "metadata": {
        "colab": {
          "base_uri": "https://localhost:8080/"
        },
        "id": "p-4zBRglO609",
        "outputId": "132db289-bc44-4998-b328-fba0a6bf8867"
      },
      "source": [
        "model.evaluate(test_generator)"
      ],
      "execution_count": 36,
      "outputs": [
        {
          "output_type": "stream",
          "text": [
            "3/3 [==============================] - 4s 2s/step - loss: 0.6571 - accuracy: 0.6667\n"
          ],
          "name": "stdout"
        },
        {
          "output_type": "execute_result",
          "data": {
            "text/plain": [
              "[0.6571377515792847, 0.6666666865348816]"
            ]
          },
          "metadata": {
            "tags": []
          },
          "execution_count": 36
        }
      ]
    }
  ]
}