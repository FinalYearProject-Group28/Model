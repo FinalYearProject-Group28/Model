{
  "nbformat": 4,
  "nbformat_minor": 0,
  "metadata": {
    "colab": {
      "name": "Untitled4.ipynb",
      "provenance": []
    },
    "kernelspec": {
      "name": "python3",
      "display_name": "Python 3"
    },
    "language_info": {
      "name": "python"
    },
    "accelerator": "GPU"
  },
  "cells": [
    {
      "cell_type": "code",
      "metadata": {
        "id": "pknEY3H_V2Ve"
      },
      "source": [
        "from google.colab import drive"
      ],
      "execution_count": 1,
      "outputs": []
    },
    {
      "cell_type": "code",
      "metadata": {
        "colab": {
          "base_uri": "https://localhost:8080/"
        },
        "id": "s1P5YbJpV55v",
        "outputId": "3b8d7f85-42bc-440a-df08-13706f92852e"
      },
      "source": [
        "drive.mount(\"/content/gdrive\")"
      ],
      "execution_count": 2,
      "outputs": [
        {
          "output_type": "stream",
          "text": [
            "Mounted at /content/gdrive\n"
          ],
          "name": "stdout"
        }
      ]
    },
    {
      "cell_type": "code",
      "metadata": {
        "id": "fe5pmiHcrTj0"
      },
      "source": [
        "!unzip \"/content/gdrive/MyDrive/FYP/dataset.zip\""
      ],
      "execution_count": null,
      "outputs": []
    },
    {
      "cell_type": "code",
      "metadata": {
        "id": "BLHtIiJjtl9X"
      },
      "source": [
        "train_path=\"/content/Train\"\n",
        "validation_path=\"/content/Validation\"\n",
        "test_path=\"/content/Test\""
      ],
      "execution_count": 4,
      "outputs": []
    },
    {
      "cell_type": "code",
      "metadata": {
        "id": "7j56tBVut69D"
      },
      "source": [
        "from keras.layers import Dense,Flatten\n",
        "from keras.models import Model,Sequential\n",
        "from keras.applications.vgg16 import VGG16,preprocess_input\n",
        "from keras.preprocessing.image import ImageDataGenerator \n",
        "import numpy as np\n",
        "import matplotlib.pyplot as plt\n"
      ],
      "execution_count": 5,
      "outputs": []
    },
    {
      "cell_type": "code",
      "metadata": {
        "id": "YLnQj1f1u6m0"
      },
      "source": [
        "IMAGE_SIZE = [224, 224]\n",
        "BATCH_SIZE = 32\n",
        "NUM_EPOCHS = 20\n",
        "NUM_CLASSES = 2"
      ],
      "execution_count": 6,
      "outputs": []
    },
    {
      "cell_type": "code",
      "metadata": {
        "id": "TBTOi10dvKIy"
      },
      "source": [
        "train_datagen = ImageDataGenerator(\n",
        "    rescale = 1./255,\n",
        "    shear_range = 0.2,\n",
        "    zoom_range = 0.2,\n",
        "    horizontal_flip = True\n",
        ")\n",
        "validation_datagen = ImageDataGenerator(rescale = 1./255)"
      ],
      "execution_count": 9,
      "outputs": []
    },
    {
      "cell_type": "code",
      "metadata": {
        "colab": {
          "base_uri": "https://localhost:8080/"
        },
        "id": "AVEhnfWUvXX7",
        "outputId": "a2531abe-dd80-42ad-cc9c-541e044c0b43"
      },
      "source": [
        "training_set = train_datagen.flow_from_directory(\n",
        "    directory = train_path,\n",
        "    target_size = (224, 224),\n",
        "    batch_size = BATCH_SIZE,\n",
        "    class_mode = 'categorical'\n",
        ")\n",
        "validation_set = validation_datagen.flow_from_directory(\n",
        "    directory = validation_path,\n",
        "    target_size = (224, 224),\n",
        "    batch_size = BATCH_SIZE,\n",
        "    class_mode = 'categorical'\n",
        ")"
      ],
      "execution_count": 17,
      "outputs": [
        {
          "output_type": "stream",
          "text": [
            "Found 6200 images belonging to 2 classes.\n",
            "Found 1664 images belonging to 2 classes.\n"
          ],
          "name": "stdout"
        }
      ]
    },
    {
      "cell_type": "code",
      "metadata": {
        "colab": {
          "base_uri": "https://localhost:8080/"
        },
        "id": "3Fa58O8KwOvB",
        "outputId": "1be46d25-40f2-4c9f-a060-ffef0f53e214"
      },
      "source": [
        "vgg = VGG16(input_shape = IMAGE_SIZE + [3], weights='imagenet', include_top=False)"
      ],
      "execution_count": 12,
      "outputs": [
        {
          "output_type": "stream",
          "text": [
            "Downloading data from https://storage.googleapis.com/tensorflow/keras-applications/vgg16/vgg16_weights_tf_dim_ordering_tf_kernels_notop.h5\n",
            "58892288/58889256 [==============================] - 1s 0us/step\n"
          ],
          "name": "stdout"
        }
      ]
    },
    {
      "cell_type": "code",
      "metadata": {
        "id": "u2XW4KvuweCg"
      },
      "source": [
        "vgg.trainable=False"
      ],
      "execution_count": 13,
      "outputs": []
    },
    {
      "cell_type": "code",
      "metadata": {
        "id": "eD66VcjfxCvK"
      },
      "source": [
        "model2= Sequential()"
      ],
      "execution_count": 14,
      "outputs": []
    },
    {
      "cell_type": "code",
      "metadata": {
        "id": "N7z-teLuxaAI"
      },
      "source": [
        "model2.add(vgg)\n",
        "model2.add(Flatten())\n",
        "model2.add(Dense(NUM_CLASSES,activation='sigmoid'))"
      ],
      "execution_count": 15,
      "outputs": []
    },
    {
      "cell_type": "code",
      "metadata": {
        "colab": {
          "base_uri": "https://localhost:8080/"
        },
        "id": "vQrmP-FNykVF",
        "outputId": "dbe42b47-c4f7-4460-987d-db482fb815ad"
      },
      "source": [
        "model2.summary()"
      ],
      "execution_count": 16,
      "outputs": [
        {
          "output_type": "stream",
          "text": [
            "Model: \"sequential\"\n",
            "_________________________________________________________________\n",
            "Layer (type)                 Output Shape              Param #   \n",
            "=================================================================\n",
            "vgg16 (Functional)           (None, 7, 7, 512)         14714688  \n",
            "_________________________________________________________________\n",
            "flatten (Flatten)            (None, 25088)             0         \n",
            "_________________________________________________________________\n",
            "dense (Dense)                (None, 2)                 50178     \n",
            "=================================================================\n",
            "Total params: 14,764,866\n",
            "Trainable params: 50,178\n",
            "Non-trainable params: 14,714,688\n",
            "_________________________________________________________________\n"
          ],
          "name": "stdout"
        }
      ]
    },
    {
      "cell_type": "code",
      "metadata": {
        "id": "FFmCaelQynQH"
      },
      "source": [
        "model2.compile(optimizer='adam',loss='categorical_crossentropy',metrics=['accuracy'])"
      ],
      "execution_count": 18,
      "outputs": []
    },
    {
      "cell_type": "code",
      "metadata": {
        "colab": {
          "base_uri": "https://localhost:8080/"
        },
        "id": "cjflHtoXzS-X",
        "outputId": "ca4f4b57-a8c6-46a5-9237-f7e455eae84d"
      },
      "source": [
        "hist=model2.fit(\n",
        "    training_set,\n",
        "    validation_data=validation_set,\n",
        "    epochs=20,\n",
        "    steps_per_epoch=int(np.ceil(len(training_set)/BATCH_SIZE)),\n",
        "    validation_steps=int(np.ceil(len(validation_set)/BATCH_SIZE))\n",
        "    )"
      ],
      "execution_count": 24,
      "outputs": [
        {
          "output_type": "stream",
          "text": [
            "Epoch 1/20\n",
            "7/7 [==============================] - 42s 495ms/step - loss: 1.0441 - accuracy: 0.6809 - val_loss: 0.6315 - val_accuracy: 0.6250\n",
            "Epoch 2/20\n",
            "7/7 [==============================] - 3s 493ms/step - loss: 0.6621 - accuracy: 0.7291 - val_loss: 0.8940 - val_accuracy: 0.6250\n",
            "Epoch 3/20\n",
            "7/7 [==============================] - 8s 1s/step - loss: 0.4484 - accuracy: 0.8001 - val_loss: 1.0533 - val_accuracy: 0.6094\n",
            "Epoch 4/20\n",
            "7/7 [==============================] - 3s 496ms/step - loss: 0.3889 - accuracy: 0.8231 - val_loss: 0.6706 - val_accuracy: 0.7188\n",
            "Epoch 5/20\n",
            "7/7 [==============================] - 3s 478ms/step - loss: 0.3834 - accuracy: 0.8262 - val_loss: 1.1680 - val_accuracy: 0.5312\n",
            "Epoch 6/20\n",
            "7/7 [==============================] - 3s 487ms/step - loss: 0.3945 - accuracy: 0.8277 - val_loss: 0.4877 - val_accuracy: 0.7969\n",
            "Epoch 7/20\n",
            "7/7 [==============================] - 3s 494ms/step - loss: 0.3745 - accuracy: 0.8524 - val_loss: 0.5446 - val_accuracy: 0.7188\n",
            "Epoch 8/20\n",
            "7/7 [==============================] - 3s 497ms/step - loss: 0.3724 - accuracy: 0.8368 - val_loss: 1.2875 - val_accuracy: 0.5781\n",
            "Epoch 9/20\n",
            "7/7 [==============================] - 4s 511ms/step - loss: 0.4444 - accuracy: 0.8198 - val_loss: 0.4020 - val_accuracy: 0.8125\n",
            "Epoch 10/20\n",
            "7/7 [==============================] - 3s 472ms/step - loss: 0.3678 - accuracy: 0.8663 - val_loss: 0.9113 - val_accuracy: 0.5938\n",
            "Epoch 11/20\n",
            "7/7 [==============================] - 3s 493ms/step - loss: 0.3761 - accuracy: 0.8851 - val_loss: 0.5620 - val_accuracy: 0.7812\n",
            "Epoch 12/20\n",
            "7/7 [==============================] - 3s 475ms/step - loss: 0.2359 - accuracy: 0.9219 - val_loss: 0.8998 - val_accuracy: 0.6719\n",
            "Epoch 13/20\n",
            "7/7 [==============================] - 3s 494ms/step - loss: 0.2631 - accuracy: 0.8872 - val_loss: 0.4408 - val_accuracy: 0.7656\n",
            "Epoch 14/20\n",
            "7/7 [==============================] - 3s 472ms/step - loss: 0.4436 - accuracy: 0.8650 - val_loss: 0.3724 - val_accuracy: 0.7656\n",
            "Epoch 15/20\n",
            "7/7 [==============================] - 3s 481ms/step - loss: 0.3536 - accuracy: 0.8407 - val_loss: 0.7255 - val_accuracy: 0.6562\n",
            "Epoch 16/20\n",
            "7/7 [==============================] - 3s 477ms/step - loss: 0.2285 - accuracy: 0.9257 - val_loss: 0.4501 - val_accuracy: 0.7812\n",
            "Epoch 17/20\n",
            "7/7 [==============================] - 3s 471ms/step - loss: 0.2443 - accuracy: 0.8819 - val_loss: 0.4786 - val_accuracy: 0.7812\n",
            "Epoch 18/20\n",
            "7/7 [==============================] - 3s 488ms/step - loss: 0.2036 - accuracy: 0.9023 - val_loss: 0.3737 - val_accuracy: 0.7812\n",
            "Epoch 19/20\n",
            "7/7 [==============================] - 3s 489ms/step - loss: 0.1544 - accuracy: 0.9465 - val_loss: 0.5295 - val_accuracy: 0.7812\n",
            "Epoch 20/20\n",
            "7/7 [==============================] - 3s 476ms/step - loss: 0.1960 - accuracy: 0.9219 - val_loss: 0.3716 - val_accuracy: 0.8438\n"
          ],
          "name": "stdout"
        }
      ]
    },
    {
      "cell_type": "code",
      "metadata": {
        "colab": {
          "base_uri": "https://localhost:8080/",
          "height": 279
        },
        "id": "9sHpRnC-077P",
        "outputId": "04e60665-6d2b-4f63-817f-79df830c57ea"
      },
      "source": [
        "plt.plot(hist.history['accuracy'])\n",
        "plt.plot(hist.history['val_accuracy'])\n",
        "plt.ylabel('acc')\n",
        "plt.xlabel('epoch')\n",
        "plt.show()"
      ],
      "execution_count": 25,
      "outputs": [
        {
          "output_type": "display_data",
          "data": {
            "image/png": "[encoded data removed]",
            "text/plain": [
              "<Figure size 432x288 with 1 Axes>"
            ]
          },
          "metadata": {
            "tags": [],
            "needs_background": "light"
          }
        }
      ]
    },
    {
      "cell_type": "code",
      "metadata": {
        "colab": {
          "base_uri": "https://localhost:8080/",
          "height": 279
        },
        "id": "kT1LA_UJ10Px",
        "outputId": "ae863ede-7c1e-4246-a0e6-f42151f379d5"
      },
      "source": [
        "plt.plot(hist.history['loss'])\n",
        "plt.plot(hist.history['val_loss'])\n",
        "plt.ylabel('loss')\n",
        "plt.xlabel('epoch')\n",
        "plt.show()"
      ],
      "execution_count": 26,
      "outputs": [
        {
          "output_type": "display_data",
          "data": {
            "image/png": "[encoded data removed]",
            "text/plain": [
              "<Figure size 432x288 with 1 Axes>"
            ]
          },
          "metadata": {
            "tags": [],
            "needs_background": "light"
          }
        }
      ]
    },
    {
      "cell_type": "code",
      "metadata": {
        "id": "cTPe6uOS15NX"
      },
      "source": [
        "model2.save('covid_prediction.h5')"
      ],
      "execution_count": 27,
      "outputs": []
    },
    {
      "cell_type": "code",
      "metadata": {
        "id": "sRov4-gH2gB6"
      },
      "source": [
        ""
      ],
      "execution_count": null,
      "outputs": []
    }
  ]
}