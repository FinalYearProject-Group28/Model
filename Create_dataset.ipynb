{
  "nbformat": 4,
  "nbformat_minor": 0,
  "metadata": {
    "colab": {
      "name": "Copy of Untitled5.ipynb",
      "provenance": [],
      "collapsed_sections": [],
      "toc_visible": true
    },
    "kernelspec": {
      "name": "python3",
      "display_name": "Python 3"
    },
    "accelerator": "GPU"
  },
  "cells": [
    {
      "cell_type": "code",
      "metadata": {
        "colab": {
          "base_uri": "https://localhost:8080/"
        },
        "id": "y5kT7Z7WvaP8",
        "outputId": "1e557343-c272-4e2a-958d-3304becb4a20"
      },
      "source": [
        "!git clone https://github.com/FinalYearProject-Group28/covid-chestxray-dataset.git"
      ],
      "execution_count": 1,
      "outputs": [
        {
          "output_type": "stream",
          "text": [
            "Cloning into 'covid-chestxray-dataset'...\n",
            "remote: Enumerating objects: 3213, done.\u001b[K\n",
            "remote: Total 3213 (delta 0), reused 0 (delta 0), pack-reused 3213\u001b[K\n",
            "Receiving objects: 100% (3213/3213), 582.58 MiB | 47.49 MiB/s, done.\n",
            "Resolving deltas: 100% (1276/1276), done.\n",
            "Checking out files: 100% (991/991), done.\n"
          ],
          "name": "stdout"
        }
      ]
    },
    {
      "cell_type": "code",
      "metadata": {
        "id": "Qk7c5yMEv1Ya"
      },
      "source": [
        "import pandas as pd\r\n",
        "import os\r\n",
        "import shutil"
      ],
      "execution_count": 2,
      "outputs": []
    },
    {
      "cell_type": "code",
      "metadata": {
        "id": "MqvDSJ-JwPMK"
      },
      "source": [
        "FILE_PATH = \"/content/covid-chestxray-dataset/metadata.csv\"\r\n",
        "IMAGE_PATH=\"/content/covid-chestxray-dataset/images\""
      ],
      "execution_count": 3,
      "outputs": []
    },
    {
      "cell_type": "code",
      "metadata": {
        "colab": {
          "base_uri": "https://localhost:8080/"
        },
        "id": "Tdg_23ZrwnL0",
        "outputId": "6f7554e3-4114-430c-bf26-d946be002966"
      },
      "source": [
        "df=pd.read_csv(FILE_PATH)\r\n",
        "print(df.shape)"
      ],
      "execution_count": 4,
      "outputs": [
        {
          "output_type": "stream",
          "text": [
            "(758, 29)\n"
          ],
          "name": "stdout"
        }
      ]
    },
    {
      "cell_type": "code",
      "metadata": {
        "colab": {
          "base_uri": "https://localhost:8080/",
          "height": 568
        },
        "id": "v8BbWqDtwv-F",
        "outputId": "7c97142a-071d-4c05-e91d-83360bea97ab"
      },
      "source": [
        "df.head()"
      ],
      "execution_count": 5,
      "outputs": [
        {
          "output_type": "execute_result",
          "data": {
            "text/html": [
              "<div>\n",
              "<style scoped>\n",
              "    .dataframe tbody tr th:only-of-type {\n",
              "        vertical-align: middle;\n",
              "    }\n",
              "\n",
              "    .dataframe tbody tr th {\n",
              "        vertical-align: top;\n",
              "    }\n",
              "\n",
              "    .dataframe thead th {\n",
              "        text-align: right;\n",
              "    }\n",
              "</style>\n",
              "<table border=\"1\" class=\"dataframe\">\n",
              "  <thead>\n",
              "    <tr style=\"text-align: right;\">\n",
              "      <th></th>\n",
              "      <th>patientid</th>\n",
              "      <th>offset</th>\n",
              "      <th>sex</th>\n",
              "      <th>age</th>\n",
              "      <th>finding</th>\n",
              "      <th>survival</th>\n",
              "      <th>intubated</th>\n",
              "      <th>intubation_present</th>\n",
              "      <th>went_icu</th>\n",
              "      <th>in_icu</th>\n",
              "      <th>needed_supplemental_O2</th>\n",
              "      <th>extubated</th>\n",
              "      <th>temperature</th>\n",
              "      <th>pO2_saturation</th>\n",
              "      <th>leukocyte_count</th>\n",
              "      <th>neutrophil_count</th>\n",
              "      <th>lymphocyte_count</th>\n",
              "      <th>view</th>\n",
              "      <th>modality</th>\n",
              "      <th>date</th>\n",
              "      <th>location</th>\n",
              "      <th>folder</th>\n",
              "      <th>filename</th>\n",
              "      <th>doi</th>\n",
              "      <th>url</th>\n",
              "      <th>license</th>\n",
              "      <th>clinical_notes</th>\n",
              "      <th>other_notes</th>\n",
              "      <th>Unnamed: 28</th>\n",
              "    </tr>\n",
              "  </thead>\n",
              "  <tbody>\n",
              "    <tr>\n",
              "      <th>0</th>\n",
              "      <td>2</td>\n",
              "      <td>0</td>\n",
              "      <td>M</td>\n",
              "      <td>65.0</td>\n",
              "      <td>COVID-19</td>\n",
              "      <td>Y</td>\n",
              "      <td>N</td>\n",
              "      <td>N</td>\n",
              "      <td>N</td>\n",
              "      <td>N</td>\n",
              "      <td>Y</td>\n",
              "      <td>NaN</td>\n",
              "      <td>NaN</td>\n",
              "      <td>NaN</td>\n",
              "      <td>NaN</td>\n",
              "      <td>NaN</td>\n",
              "      <td>NaN</td>\n",
              "      <td>PA</td>\n",
              "      <td>X-ray</td>\n",
              "      <td>January 22, 2020</td>\n",
              "      <td>Cho Ray Hospital, Ho Chi Minh City, Vietnam</td>\n",
              "      <td>images</td>\n",
              "      <td>auntminnie-a-2020_01_28_23_51_6665_2020_01_28_...</td>\n",
              "      <td>10.1056/nejmc2001272</td>\n",
              "      <td>https://www.nejm.org/doi/full/10.1056/NEJMc200...</td>\n",
              "      <td>NaN</td>\n",
              "      <td>On January 22, 2020, a 65-year-old man with a ...</td>\n",
              "      <td>NaN</td>\n",
              "      <td>NaN</td>\n",
              "    </tr>\n",
              "    <tr>\n",
              "      <th>1</th>\n",
              "      <td>2</td>\n",
              "      <td>3</td>\n",
              "      <td>M</td>\n",
              "      <td>65.0</td>\n",
              "      <td>COVID-19</td>\n",
              "      <td>Y</td>\n",
              "      <td>N</td>\n",
              "      <td>N</td>\n",
              "      <td>N</td>\n",
              "      <td>N</td>\n",
              "      <td>Y</td>\n",
              "      <td>NaN</td>\n",
              "      <td>NaN</td>\n",
              "      <td>NaN</td>\n",
              "      <td>NaN</td>\n",
              "      <td>NaN</td>\n",
              "      <td>NaN</td>\n",
              "      <td>PA</td>\n",
              "      <td>X-ray</td>\n",
              "      <td>January 25, 2020</td>\n",
              "      <td>Cho Ray Hospital, Ho Chi Minh City, Vietnam</td>\n",
              "      <td>images</td>\n",
              "      <td>auntminnie-b-2020_01_28_23_51_6665_2020_01_28_...</td>\n",
              "      <td>10.1056/nejmc2001272</td>\n",
              "      <td>https://www.nejm.org/doi/full/10.1056/NEJMc200...</td>\n",
              "      <td>NaN</td>\n",
              "      <td>On January 22, 2020, a 65-year-old man with a ...</td>\n",
              "      <td>NaN</td>\n",
              "      <td>NaN</td>\n",
              "    </tr>\n",
              "    <tr>\n",
              "      <th>2</th>\n",
              "      <td>2</td>\n",
              "      <td>5</td>\n",
              "      <td>M</td>\n",
              "      <td>65.0</td>\n",
              "      <td>COVID-19</td>\n",
              "      <td>Y</td>\n",
              "      <td>N</td>\n",
              "      <td>N</td>\n",
              "      <td>N</td>\n",
              "      <td>N</td>\n",
              "      <td>Y</td>\n",
              "      <td>NaN</td>\n",
              "      <td>NaN</td>\n",
              "      <td>NaN</td>\n",
              "      <td>NaN</td>\n",
              "      <td>NaN</td>\n",
              "      <td>NaN</td>\n",
              "      <td>PA</td>\n",
              "      <td>X-ray</td>\n",
              "      <td>January 27, 2020</td>\n",
              "      <td>Cho Ray Hospital, Ho Chi Minh City, Vietnam</td>\n",
              "      <td>images</td>\n",
              "      <td>auntminnie-c-2020_01_28_23_51_6665_2020_01_28_...</td>\n",
              "      <td>10.1056/nejmc2001272</td>\n",
              "      <td>https://www.nejm.org/doi/full/10.1056/NEJMc200...</td>\n",
              "      <td>NaN</td>\n",
              "      <td>On January 22, 2020, a 65-year-old man with a ...</td>\n",
              "      <td>NaN</td>\n",
              "      <td>NaN</td>\n",
              "    </tr>\n",
              "    <tr>\n",
              "      <th>3</th>\n",
              "      <td>2</td>\n",
              "      <td>6</td>\n",
              "      <td>M</td>\n",
              "      <td>65.0</td>\n",
              "      <td>COVID-19</td>\n",
              "      <td>Y</td>\n",
              "      <td>N</td>\n",
              "      <td>N</td>\n",
              "      <td>N</td>\n",
              "      <td>N</td>\n",
              "      <td>Y</td>\n",
              "      <td>NaN</td>\n",
              "      <td>NaN</td>\n",
              "      <td>NaN</td>\n",
              "      <td>NaN</td>\n",
              "      <td>NaN</td>\n",
              "      <td>NaN</td>\n",
              "      <td>PA</td>\n",
              "      <td>X-ray</td>\n",
              "      <td>January 28, 2020</td>\n",
              "      <td>Cho Ray Hospital, Ho Chi Minh City, Vietnam</td>\n",
              "      <td>images</td>\n",
              "      <td>auntminnie-d-2020_01_28_23_51_6665_2020_01_28_...</td>\n",
              "      <td>10.1056/nejmc2001272</td>\n",
              "      <td>https://www.nejm.org/doi/full/10.1056/NEJMc200...</td>\n",
              "      <td>NaN</td>\n",
              "      <td>On January 22, 2020, a 65-year-old man with a ...</td>\n",
              "      <td>NaN</td>\n",
              "      <td>NaN</td>\n",
              "    </tr>\n",
              "    <tr>\n",
              "      <th>4</th>\n",
              "      <td>4</td>\n",
              "      <td>0</td>\n",
              "      <td>F</td>\n",
              "      <td>52.0</td>\n",
              "      <td>COVID-19</td>\n",
              "      <td>NaN</td>\n",
              "      <td>N</td>\n",
              "      <td>N</td>\n",
              "      <td>N</td>\n",
              "      <td>N</td>\n",
              "      <td>N</td>\n",
              "      <td>NaN</td>\n",
              "      <td>NaN</td>\n",
              "      <td>NaN</td>\n",
              "      <td>NaN</td>\n",
              "      <td>NaN</td>\n",
              "      <td>NaN</td>\n",
              "      <td>PA</td>\n",
              "      <td>X-ray</td>\n",
              "      <td>January 25, 2020</td>\n",
              "      <td>Changhua Christian Hospital, Changhua City, Ta...</td>\n",
              "      <td>images</td>\n",
              "      <td>nejmc2001573_f1a.jpeg</td>\n",
              "      <td>10.1056/NEJMc2001573</td>\n",
              "      <td>https://www.nejm.org/doi/full/10.1056/NEJMc200...</td>\n",
              "      <td>NaN</td>\n",
              "      <td>diffuse infiltrates in the bilateral lower lungs</td>\n",
              "      <td>NaN</td>\n",
              "      <td>NaN</td>\n",
              "    </tr>\n",
              "  </tbody>\n",
              "</table>\n",
              "</div>"
            ],
            "text/plain": [
              "  patientid offset  ... other_notes  Unnamed: 28\n",
              "0         2      0  ...         NaN          NaN\n",
              "1         2      3  ...         NaN          NaN\n",
              "2         2      5  ...         NaN          NaN\n",
              "3         2      6  ...         NaN          NaN\n",
              "4         4      0  ...         NaN          NaN\n",
              "\n",
              "[5 rows x 29 columns]"
            ]
          },
          "metadata": {
            "tags": []
          },
          "execution_count": 5
        }
      ]
    },
    {
      "cell_type": "code",
      "metadata": {
        "id": "yuuicXtSxDQR"
      },
      "source": [
        "TARGET_DIR_COVID=\"/content/dataset/covid\"\r\n",
        "if not os.path.exists(TARGET_DIR_COVID):\r\n",
        "  os.mkdir(\"/content/dataset\")\r\n",
        "  os.mkdir(TARGET_DIR_COVID)\r\n",
        "TARGET_DIR_NCOVID=\"/content/dataset/not-covid\"\r\n",
        "if not os.path.exists(TARGET_DIR_NCOVID):\r\n",
        "  os.mkdir(TARGET_DIR_NCOVID)"
      ],
      "execution_count": 6,
      "outputs": []
    },
    {
      "cell_type": "code",
      "metadata": {
        "colab": {
          "base_uri": "https://localhost:8080/"
        },
        "id": "jrhW9_43yHN_",
        "outputId": "96dd368f-d0c3-4f1d-a90d-74263b5545a8"
      },
      "source": [
        "cnt=0\r\n",
        "count=0\r\n",
        "for (i,row) in df.iterrows():\r\n",
        "  if row[\"finding\"]==\"COVID-19\" and row[\"view\"]==\"PA\":\r\n",
        "    cnt+=1\r\n",
        "    filename=row[\"filename\"]\r\n",
        "    image_path = os.path.join(IMAGE_PATH,filename)\r\n",
        "    image_copy_path = os.path.join(TARGET_DIR_COVID,filename)\r\n",
        "    shutil.copy2(image_path,image_copy_path)\r\n",
        "  if row[\"finding\"]!=\"COVID-19\" and row[\"view\"]==\"PA\":\r\n",
        "    count+=1\r\n",
        "    filename=row[\"filename\"]\r\n",
        "    image_path = os.path.join(IMAGE_PATH,filename)\r\n",
        "    image_copy_path = os.path.join(TARGET_DIR_NCOVID,filename)\r\n",
        "    shutil.copy2(image_path,image_copy_path)\r\n",
        "print(cnt)\r\n",
        "print(count)"
      ],
      "execution_count": 7,
      "outputs": [
        {
          "output_type": "stream",
          "text": [
            "201\n",
            "102\n"
          ],
          "name": "stdout"
        }
      ]
    },
    {
      "cell_type": "code",
      "metadata": {
        "colab": {
          "base_uri": "https://localhost:8080/"
        },
        "id": "MOU1Bcv1FH3Y",
        "outputId": "e5341afd-df1c-4ee5-b8ed-8537485da426"
      },
      "source": [
        "x_train_count=int(cnt*0.7)\r\n",
        "y_train_count=int(count*0.7)\r\n",
        "print(x_train_count)\r\n",
        "print(y_train_count)"
      ],
      "execution_count": 8,
      "outputs": [
        {
          "output_type": "stream",
          "text": [
            "140\n",
            "71\n"
          ],
          "name": "stdout"
        }
      ]
    },
    {
      "cell_type": "code",
      "metadata": {
        "id": "_K4JqPzm5QHM"
      },
      "source": [
        "if not os.path.exists(\"/content/train/covid\"):\r\n",
        "  os.mkdir(\"/content/train/\")\r\n",
        "  os.mkdir(\"/content/train/covid\")"
      ],
      "execution_count": 9,
      "outputs": []
    },
    {
      "cell_type": "code",
      "metadata": {
        "id": "pJ1gMWdh73yw"
      },
      "source": [
        "os.mkdir(\"/content/train/ncovid\")"
      ],
      "execution_count": 10,
      "outputs": []
    },
    {
      "cell_type": "code",
      "metadata": {
        "id": "3VTg_mH18Kqi"
      },
      "source": [
        "if not os.path.exists(\"/content/test/covid\"):\r\n",
        "  os.mkdir(\"/content/test/\")\r\n",
        "  os.mkdir(\"/content/test/covid\")\r\n",
        "  os.mkdir(\"/content/test/ncovid\")"
      ],
      "execution_count": 11,
      "outputs": []
    },
    {
      "cell_type": "code",
      "metadata": {
        "id": "PFVXKI5PF4ca"
      },
      "source": [
        "covid_names=os.listdir(\"/content/dataset/covid\")\r\n",
        "ncovid_names=os.listdir(\"/content/dataset/not-covid\")"
      ],
      "execution_count": 12,
      "outputs": []
    },
    {
      "cell_type": "code",
      "metadata": {
        "id": "BW1ny55MGXUT"
      },
      "source": [
        "import random\r\n",
        "random.shuffle(covid_names)\r\n",
        "random.shuffle(ncovid_names)"
      ],
      "execution_count": 13,
      "outputs": []
    },
    {
      "cell_type": "code",
      "metadata": {
        "colab": {
          "base_uri": "https://localhost:8080/"
        },
        "id": "VsHDNrdqGvcA",
        "outputId": "3cfb39b8-b4fe-433a-b49c-9b43e1286846"
      },
      "source": [
        "for i in range(x_train_count):\r\n",
        "  img_name=covid_names[i]\r\n",
        "  img_path=os.path.join(\"/content/dataset/covid\",img_name)\r\n",
        "  img_target=os.path.join(\"/content/train/covid\",img_name)\r\n",
        "  shutil.copy2(img_path,img_target)\r\n",
        "  print(\"covid train copied\")"
      ],
      "execution_count": 14,
      "outputs": [
        {
          "output_type": "stream",
          "text": [
            "covid train copied\n",
            "covid train copied\n",
            "covid train copied\n",
            "covid train copied\n",
            "covid train copied\n",
            "covid train copied\n",
            "covid train copied\n",
            "covid train copied\n",
            "covid train copied\n",
            "covid train copied\n",
            "covid train copied\n",
            "covid train copied\n",
            "covid train copied\n",
            "covid train copied\n",
            "covid train copied\n",
            "covid train copied\n",
            "covid train copied\n",
            "covid train copied\n",
            "covid train copied\n",
            "covid train copied\n",
            "covid train copied\n",
            "covid train copied\n",
            "covid train copied\n",
            "covid train copied\n",
            "covid train copied\n",
            "covid train copied\n",
            "covid train copied\n",
            "covid train copied\n",
            "covid train copied\n",
            "covid train copied\n",
            "covid train copied\n",
            "covid train copied\n",
            "covid train copied\n",
            "covid train copied\n",
            "covid train copied\n",
            "covid train copied\n",
            "covid train copied\n",
            "covid train copied\n",
            "covid train copied\n",
            "covid train copied\n",
            "covid train copied\n",
            "covid train copied\n",
            "covid train copied\n",
            "covid train copied\n",
            "covid train copied\n",
            "covid train copied\n",
            "covid train copied\n",
            "covid train copied\n",
            "covid train copied\n",
            "covid train copied\n",
            "covid train copied\n",
            "covid train copied\n",
            "covid train copied\n",
            "covid train copied\n",
            "covid train copied\n",
            "covid train copied\n",
            "covid train copied\n",
            "covid train copied\n",
            "covid train copied\n",
            "covid train copied\n",
            "covid train copied\n",
            "covid train copied\n",
            "covid train copied\n",
            "covid train copied\n",
            "covid train copied\n",
            "covid train copied\n",
            "covid train copied\n",
            "covid train copied\n",
            "covid train copied\n",
            "covid train copied\n",
            "covid train copied\n",
            "covid train copied\n",
            "covid train copied\n",
            "covid train copied\n",
            "covid train copied\n",
            "covid train copied\n",
            "covid train copied\n",
            "covid train copied\n",
            "covid train copied\n",
            "covid train copied\n",
            "covid train copied\n",
            "covid train copied\n",
            "covid train copied\n",
            "covid train copied\n",
            "covid train copied\n",
            "covid train copied\n",
            "covid train copied\n",
            "covid train copied\n",
            "covid train copied\n",
            "covid train copied\n",
            "covid train copied\n",
            "covid train copied\n",
            "covid train copied\n",
            "covid train copied\n",
            "covid train copied\n",
            "covid train copied\n",
            "covid train copied\n",
            "covid train copied\n",
            "covid train copied\n",
            "covid train copied\n",
            "covid train copied\n",
            "covid train copied\n",
            "covid train copied\n",
            "covid train copied\n",
            "covid train copied\n",
            "covid train copied\n",
            "covid train copied\n",
            "covid train copied\n",
            "covid train copied\n",
            "covid train copied\n",
            "covid train copied\n",
            "covid train copied\n",
            "covid train copied\n",
            "covid train copied\n",
            "covid train copied\n",
            "covid train copied\n",
            "covid train copied\n",
            "covid train copied\n",
            "covid train copied\n",
            "covid train copied\n",
            "covid train copied\n",
            "covid train copied\n",
            "covid train copied\n",
            "covid train copied\n",
            "covid train copied\n",
            "covid train copied\n",
            "covid train copied\n",
            "covid train copied\n",
            "covid train copied\n",
            "covid train copied\n",
            "covid train copied\n",
            "covid train copied\n",
            "covid train copied\n",
            "covid train copied\n",
            "covid train copied\n",
            "covid train copied\n",
            "covid train copied\n",
            "covid train copied\n",
            "covid train copied\n",
            "covid train copied\n"
          ],
          "name": "stdout"
        }
      ]
    },
    {
      "cell_type": "code",
      "metadata": {
        "colab": {
          "base_uri": "https://localhost:8080/"
        },
        "id": "LdrUO_5IH7Bq",
        "outputId": "7459772b-dd10-466b-a07c-dc19201d8825"
      },
      "source": [
        "for i in range(y_train_count):\r\n",
        "  img_name=ncovid_names[i]\r\n",
        "  img_path=os.path.join(\"/content/dataset/not-covid\",img_name)\r\n",
        "  img_target=os.path.join(\"/content/train/ncovid\",img_name)\r\n",
        "  shutil.copy2(img_path,img_target)\r\n",
        "  print(\"ncovid train copied\")"
      ],
      "execution_count": 15,
      "outputs": [
        {
          "output_type": "stream",
          "text": [
            "ncovid train copied\n",
            "ncovid train copied\n",
            "ncovid train copied\n",
            "ncovid train copied\n",
            "ncovid train copied\n",
            "ncovid train copied\n",
            "ncovid train copied\n",
            "ncovid train copied\n",
            "ncovid train copied\n",
            "ncovid train copied\n",
            "ncovid train copied\n",
            "ncovid train copied\n",
            "ncovid train copied\n",
            "ncovid train copied\n",
            "ncovid train copied\n",
            "ncovid train copied\n",
            "ncovid train copied\n",
            "ncovid train copied\n",
            "ncovid train copied\n",
            "ncovid train copied\n",
            "ncovid train copied\n",
            "ncovid train copied\n",
            "ncovid train copied\n",
            "ncovid train copied\n",
            "ncovid train copied\n",
            "ncovid train copied\n",
            "ncovid train copied\n",
            "ncovid train copied\n",
            "ncovid train copied\n",
            "ncovid train copied\n",
            "ncovid train copied\n",
            "ncovid train copied\n",
            "ncovid train copied\n",
            "ncovid train copied\n",
            "ncovid train copied\n",
            "ncovid train copied\n",
            "ncovid train copied\n",
            "ncovid train copied\n",
            "ncovid train copied\n",
            "ncovid train copied\n",
            "ncovid train copied\n",
            "ncovid train copied\n",
            "ncovid train copied\n",
            "ncovid train copied\n",
            "ncovid train copied\n",
            "ncovid train copied\n",
            "ncovid train copied\n",
            "ncovid train copied\n",
            "ncovid train copied\n",
            "ncovid train copied\n",
            "ncovid train copied\n",
            "ncovid train copied\n",
            "ncovid train copied\n",
            "ncovid train copied\n",
            "ncovid train copied\n",
            "ncovid train copied\n",
            "ncovid train copied\n",
            "ncovid train copied\n",
            "ncovid train copied\n",
            "ncovid train copied\n",
            "ncovid train copied\n",
            "ncovid train copied\n",
            "ncovid train copied\n",
            "ncovid train copied\n",
            "ncovid train copied\n",
            "ncovid train copied\n",
            "ncovid train copied\n",
            "ncovid train copied\n",
            "ncovid train copied\n",
            "ncovid train copied\n",
            "ncovid train copied\n"
          ],
          "name": "stdout"
        }
      ]
    },
    {
      "cell_type": "code",
      "metadata": {
        "colab": {
          "base_uri": "https://localhost:8080/"
        },
        "id": "GQHzSi9bIptr",
        "outputId": "28bda690-fbea-4ca2-e7ad-04022618d30d"
      },
      "source": [
        "for i in range(x_train_count+1,cnt):\r\n",
        "  img_name=covid_names[i]\r\n",
        "  img_path=os.path.join(\"/content/dataset/covid\",img_name)\r\n",
        "  img_target=os.path.join(\"/content/test/covid\",img_name)\r\n",
        "  shutil.copy2(img_path,img_target)\r\n",
        "  print(\"covid test copied\")"
      ],
      "execution_count": 16,
      "outputs": [
        {
          "output_type": "stream",
          "text": [
            "covid test copied\n",
            "covid test copied\n",
            "covid test copied\n",
            "covid test copied\n",
            "covid test copied\n",
            "covid test copied\n",
            "covid test copied\n",
            "covid test copied\n",
            "covid test copied\n",
            "covid test copied\n",
            "covid test copied\n",
            "covid test copied\n",
            "covid test copied\n",
            "covid test copied\n",
            "covid test copied\n",
            "covid test copied\n",
            "covid test copied\n",
            "covid test copied\n",
            "covid test copied\n",
            "covid test copied\n",
            "covid test copied\n",
            "covid test copied\n",
            "covid test copied\n",
            "covid test copied\n",
            "covid test copied\n",
            "covid test copied\n",
            "covid test copied\n",
            "covid test copied\n",
            "covid test copied\n",
            "covid test copied\n",
            "covid test copied\n",
            "covid test copied\n",
            "covid test copied\n",
            "covid test copied\n",
            "covid test copied\n",
            "covid test copied\n",
            "covid test copied\n",
            "covid test copied\n",
            "covid test copied\n",
            "covid test copied\n",
            "covid test copied\n",
            "covid test copied\n",
            "covid test copied\n",
            "covid test copied\n",
            "covid test copied\n",
            "covid test copied\n",
            "covid test copied\n",
            "covid test copied\n",
            "covid test copied\n",
            "covid test copied\n",
            "covid test copied\n",
            "covid test copied\n",
            "covid test copied\n",
            "covid test copied\n",
            "covid test copied\n",
            "covid test copied\n",
            "covid test copied\n",
            "covid test copied\n",
            "covid test copied\n",
            "covid test copied\n"
          ],
          "name": "stdout"
        }
      ]
    },
    {
      "cell_type": "code",
      "metadata": {
        "colab": {
          "base_uri": "https://localhost:8080/"
        },
        "id": "oKN_DfyyJgl5",
        "outputId": "2cf11dcf-1411-4c4a-c9f0-ae36ef1aaac9"
      },
      "source": [
        "for i in range(y_train_count+1,count):\r\n",
        "  img_name=ncovid_names[i]\r\n",
        "  img_path=os.path.join(\"/content/dataset/not-covid\",img_name)\r\n",
        "  img_target=os.path.join(\"/content/test/ncovid\",img_name)\r\n",
        "  shutil.copy2(img_path,img_target)\r\n",
        "  print(\"ncovid test copied\")"
      ],
      "execution_count": 17,
      "outputs": [
        {
          "output_type": "stream",
          "text": [
            "ncovid test copied\n",
            "ncovid test copied\n",
            "ncovid test copied\n",
            "ncovid test copied\n",
            "ncovid test copied\n",
            "ncovid test copied\n",
            "ncovid test copied\n",
            "ncovid test copied\n",
            "ncovid test copied\n",
            "ncovid test copied\n",
            "ncovid test copied\n",
            "ncovid test copied\n",
            "ncovid test copied\n",
            "ncovid test copied\n",
            "ncovid test copied\n",
            "ncovid test copied\n",
            "ncovid test copied\n",
            "ncovid test copied\n",
            "ncovid test copied\n",
            "ncovid test copied\n",
            "ncovid test copied\n",
            "ncovid test copied\n",
            "ncovid test copied\n",
            "ncovid test copied\n",
            "ncovid test copied\n",
            "ncovid test copied\n",
            "ncovid test copied\n",
            "ncovid test copied\n",
            "ncovid test copied\n",
            "ncovid test copied\n"
          ],
          "name": "stdout"
        }
      ]
    }
  ]
}